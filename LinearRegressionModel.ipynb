{
  "nbformat": 4,
  "nbformat_minor": 0,
  "metadata": {
    "colab": {
      "provenance": []
    },
    "kernelspec": {
      "name": "python3",
      "display_name": "Python 3"
    },
    "language_info": {
      "name": "python"
    }
  },
  "cells": [
    {
      "cell_type": "markdown",
      "source": [
        "## 선형 회귀 모델(Linear Regression Model)"
      ],
      "metadata": {
        "id": "jlwMEoMKqbDU"
      }
    },
    {
      "cell_type": "markdown",
      "source": [
        "### 데이터 생성"
      ],
      "metadata": {
        "id": "tSDZeiFgrLES"
      }
    },
    {
      "cell_type": "code",
      "source": [],
      "metadata": {
        "id": "rvuFRjTIq0iC"
      },
      "execution_count": null,
      "outputs": []
    },
    {
      "cell_type": "markdown",
      "source": [
        "### 모델 정의 및 파라미터"
      ],
      "metadata": {
        "id": "v0Q-E-46rVA0"
      }
    },
    {
      "cell_type": "code",
      "source": [],
      "metadata": {
        "id": "TOcdA-yVrOF2"
      },
      "execution_count": null,
      "outputs": []
    },
    {
      "cell_type": "code",
      "source": [],
      "metadata": {
        "id": "mWU343lurnRV"
      },
      "execution_count": null,
      "outputs": []
    },
    {
      "cell_type": "code",
      "source": [],
      "metadata": {
        "id": "ZlD0py05rwo3"
      },
      "execution_count": null,
      "outputs": []
    },
    {
      "cell_type": "markdown",
      "source": [
        "### 손실 함수 및 옵티마이저"
      ],
      "metadata": {
        "id": "EifY0L0XshIJ"
      }
    },
    {
      "cell_type": "code",
      "source": [],
      "metadata": {
        "id": "w5BQZIlWsFMa"
      },
      "execution_count": null,
      "outputs": []
    },
    {
      "cell_type": "markdown",
      "source": [
        "### 모델 학습"
      ],
      "metadata": {
        "id": "xQLuvH2Yspje"
      }
    },
    {
      "cell_type": "code",
      "source": [],
      "metadata": {
        "id": "ZpW3zOxfsq5l"
      },
      "execution_count": null,
      "outputs": []
    },
    {
      "cell_type": "code",
      "source": [],
      "metadata": {
        "id": "cnC7rQuSs9RC"
      },
      "execution_count": null,
      "outputs": []
    },
    {
      "cell_type": "code",
      "source": [],
      "metadata": {
        "id": "ktewuhRPtQyi"
      },
      "execution_count": null,
      "outputs": []
    }
  ]
}